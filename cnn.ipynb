{
 "cells": [
  {
   "cell_type": "code",
   "execution_count": 157,
   "metadata": {},
   "outputs": [],
   "source": [
    "import numpy as np\n",
    "from keras.datasets import mnist\n",
    "from scipy.signal import correlate2d\n",
    "from layer import Layer"
   ]
  },
  {
   "cell_type": "code",
   "execution_count": 158,
   "metadata": {},
   "outputs": [],
   "source": [
    "(x_train, y_train), (x_test, y_test) = mnist.load_data()"
   ]
  },
  {
   "cell_type": "code",
   "execution_count": 159,
   "metadata": {},
   "outputs": [
    {
     "data": {
      "text/plain": [
       "(60000, 28, 28)"
      ]
     },
     "execution_count": 159,
     "metadata": {},
     "output_type": "execute_result"
    }
   ],
   "source": [
    "x_train.shape\n"
   ]
  },
  {
   "cell_type": "code",
   "execution_count": 160,
   "metadata": {},
   "outputs": [],
   "source": [
    "limit=2000\n",
    "x_train=x_train[:limit]\n",
    "y_train=y_train[:limit]\n",
    "x_test=x_test[:limit]\n",
    "y_test=y_test[:limit]\n"
   ]
  },
  {
   "cell_type": "code",
   "execution_count": 161,
   "metadata": {},
   "outputs": [
    {
     "data": {
      "text/plain": [
       "(2000, 28, 28)"
      ]
     },
     "execution_count": 161,
     "metadata": {},
     "output_type": "execute_result"
    }
   ],
   "source": [
    "x_train.shape"
   ]
  },
  {
   "cell_type": "code",
   "execution_count": 162,
   "metadata": {},
   "outputs": [
    {
     "data": {
      "text/plain": [
       "<matplotlib.image.AxesImage at 0x7ffe4eb43310>"
      ]
     },
     "execution_count": 162,
     "metadata": {},
     "output_type": "execute_result"
    },
    {
     "data": {
      "image/png": "[encoded data removed]",
      "text/plain": [
       "<Figure size 640x480 with 1 Axes>"
      ]
     },
     "metadata": {},
     "output_type": "display_data"
    }
   ],
   "source": [
    "import matplotlib.pyplot as plt\n",
    "plt.imshow(x_train[0], cmap='gray')\n"
   ]
  },
  {
   "cell_type": "code",
   "execution_count": 168,
   "metadata": {},
   "outputs": [],
   "source": [
    "class Convolutional_layer(Layer):\n",
    "    def __init__(self,input_shape, num_filters, filter_size):\n",
    "\n",
    "        input_depth, input_height, input_width = input_shape\n",
    "        self.num_filters=num_filters\n",
    "        self.filter_size=filter_size\n",
    "        self.input_depth=input_depth\n",
    "        self.input_height=input_height\n",
    "        self.input_width=input_width\n",
    "        \n",
    "        self.filters=np.random.randn(num_filters,input_depth, filter_size, filter_size)\n",
    "        self.output_shape = (num_filters, input_height - filter_size + 1, input_width - filter_size + 1)\n",
    "        self.biases=np.random.randn(self.output_shape[0],self.output_shape[1],self.output_shape[2])\n",
    "        \n",
    "    def forward(self, input):\n",
    "        print(self.filters.shape)\n",
    "        self.input=input        \n",
    "        print(self.input.shape)\n",
    "        self.output=np.zeros((self.input_depth,self.num_filters, self.input_height - self.filter_size + 1, self.input_width - self.filter_size + 1))\n",
    "        self.output+=self.biases\n",
    "        \n",
    "        for i in range(self.num_filters):\n",
    "            for j in range(self.input_depth):\n",
    "                self.output[j]+=correlate2d(self.input[j],self.filters[i,j],'valid')\n",
    "                \n",
    "        return self.output\n",
    "    \n",
    "    def backward(self, output_grad, lr):\n",
    "        dL_dfilters=np.zeros(self.filters.shape)\n",
    "        dL_dinput=np.zeros(self.input.shape)\n",
    "        dL_dbiases=np.zeros(self.biases.shape)\n",
    "        for i in range(self.num_filters):\n",
    "            for j in range(self.input_depth):\n",
    "                dL_dfilters[i,j]=correlate2d(self.input[j],output_grad[i],'valid')\n",
    "                dL_dinput[j]+=correlate2d(output_grad[i],self.filters[i,j],'full')\n",
    "        self.filters-=lr*dL_dfilters\n",
    "        self.biases-=lr*output_grad\n",
    "        return dL_dinput\n",
    "        \n",
    "        \n",
    "        "
   ]
  },
  {
   "cell_type": "code",
   "execution_count": 172,
   "metadata": {},
   "outputs": [],
   "source": [
    "class MaxPooling_Layer(Layer):\n",
    "    def __init__(self, input_shape):\n",
    "        self.input_shape = input_shape\n",
    "        \n",
    "    def forward(self, input):\n",
    "        self.input = input\n",
    "        \n",
    "        self.output = np.zeros((self.input_shape[0], self.input_shape[1], self.input_shape[2]//2, self.input_shape[3]//2))\n",
    "        \n",
    "        for i in range(self.input_shape[0]):\n",
    "          for n in range(0, self.input_shape[1]):\n",
    "            for j in range(0, self.input_shape[2], 2):\n",
    "                for k in range(0, self.input_shape[3], 2):\n",
    "                    self.output[ i , n , j//2,k//2] = np.max(self.input[i, n ,j:j+2,k:k+2])\n",
    "                    \n",
    "        return self.output\n",
    "    \n",
    "    def backward(self, output_gradient, learning_rate):\n",
    "        return np.reshape(output_gradient, self.input_shape)\n",
    "\n",
    "    "
   ]
  },
  {
   "cell_type": "code",
   "execution_count": 183,
   "metadata": {},
   "outputs": [
    {
     "name": "stdout",
     "output_type": "stream",
     "text": [
      "(5, 2000, 3, 3)\n",
      "(2000, 28, 28)\n"
     ]
    }
   ],
   "source": [
    "output_conv=Convolutional_layer(x_train.shape, 5, 3).forward(x_train)"
   ]
  },
  {
   "cell_type": "code",
   "execution_count": 184,
   "metadata": {},
   "outputs": [
    {
     "data": {
      "text/plain": [
       "(2000, 5, 26, 26)"
      ]
     },
     "execution_count": 184,
     "metadata": {},
     "output_type": "execute_result"
    }
   ],
   "source": [
    "output_conv.shape"
   ]
  },
  {
   "cell_type": "code",
   "execution_count": 175,
   "metadata": {},
   "outputs": [],
   "source": []
  },
  {
   "cell_type": "code",
   "execution_count": null,
   "metadata": {},
   "outputs": [],
   "source": [
    "class reLU(Layer):\n",
    "    def __init__(self, input_shape):\n",
    "        self.input_shape = input_shape\n",
    "        \n",
    "    def forward(self, input):\n",
    "        self.input = input\n",
    "        self.output = np.maximum(0, input)\n",
    "        return self.output\n",
    "    \n",
    "    def backward(self, output_gradient, learning_rate):\n",
    "        return output_gradient * (self.input > 0)"
   ]
  },
  {
   "cell_type": "code",
   "execution_count": 182,
   "metadata": {},
   "outputs": [],
   "source": [
    "from dense import Dense\n",
    "from reshape import Reshape\n",
    "from activations import Softmax"
   ]
  },
  {
   "cell_type": "code",
   "execution_count": 147,
   "metadata": {},
   "outputs": [
    {
     "name": "stdout",
     "output_type": "stream",
     "text": [
      "(5, 2000, 3, 3)\n"
     ]
    }
   ],
   "source": [
    "\n",
    "network = [\n",
    "    Convolutional_layer(x_train.shape, 3, 3),\n",
    "    reLU((2000, 5, 26, 26)),\n",
    "    MaxPooling_Layer((2000, 5, 26, 26)),\n",
    "    Reshape((2000, 5, 13, 13),(2000, 845)),\n",
    "    \n",
    "    Dense()\n",
    "    Softmax()\n",
    "]\n"
   ]
  },
  {
   "cell_type": "code",
   "execution_count": 148,
   "metadata": {},
   "outputs": [
    {
     "data": {
      "text/plain": [
       "(5, 26, 26)"
      ]
     },
     "execution_count": 148,
     "metadata": {},
     "output_type": "execute_result"
    }
   ],
   "source": [
    "output.shape"
   ]
  },
  {
   "cell_type": "code",
   "execution_count": 149,
   "metadata": {},
   "outputs": [],
   "source": [
    "backprop=C_layer.backprop(output,0.01)"
   ]
  },
  {
   "cell_type": "code",
   "execution_count": 151,
   "metadata": {},
   "outputs": [
    {
     "data": {
      "text/plain": [
       "(2000, 28, 28)"
      ]
     },
     "execution_count": 151,
     "metadata": {},
     "output_type": "execute_result"
    }
   ],
   "source": [
    "backprop.shape"
   ]
  },
  {
   "cell_type": "code",
   "execution_count": 138,
   "metadata": {},
   "outputs": [],
   "source": [
    "class MaxPooling_Layer():\n",
    "    def __init__(self, input_shape):\n",
    "        self.input_shape = input_shape\n",
    "        \n",
    "    def forward(self, input):\n",
    "        self.input = input\n",
    "        self.output = np.zeros((self.input_shape[0], self.input_shape[1]//2, self.input_shape[2]//2))\n",
    "        \n",
    "        for i in range(self.input_shape[0]):\n",
    "            for j in range(0, self.input_shape[1], 2):\n",
    "                for k in range(0, self.input_shape[2], 2):\n",
    "                    self.output[i,j//2,k//2] = np.max(self.input[i,j:j+2,k:k+2])\n",
    "                    \n",
    "        return self.output\n",
    "    \n",
    "    def backprop(self, dL_dout):\n",
    "        dL_dinput = np.zeros(self.input.shape)\n",
    "        \n",
    "        for i in range(self.input_shape[0]):\n",
    "            for j in range(self.input_shape[1]//2):\n",
    "                for k in range(self.input_shape[2]//2):\n",
    "                    a = self.input[i,j*2:j*2+2,k*2:k*2+2]\n",
    "                    b = np.zeros((2,2))\n",
    "                    (l,m) = np.unravel_index(np.argmax(a), a.shape)"
   ]
  },
  {
   "cell_type": "code",
   "execution_count": 139,
   "metadata": {},
   "outputs": [
    {
     "ename": "TypeError",
     "evalue": "Convolutional_layer.__init__() takes 4 positional arguments but 5 were given",
     "output_type": "error",
     "traceback": [
      "\u001b[0;31m---------------------------------------------------------------------------\u001b[0m",
      "\u001b[0;31mTypeError\u001b[0m                                 Traceback (most recent call last)",
      "Cell \u001b[0;32mIn[139], line 1\u001b[0m\n\u001b[0;32m----> 1\u001b[0m C_layer\u001b[38;5;241m=\u001b[39m\u001b[43mConvolutional_layer\u001b[49m\u001b[43m(\u001b[49m\u001b[43mx_train\u001b[49m\u001b[43m,\u001b[49m\u001b[43mx_train\u001b[49m\u001b[38;5;241;43m.\u001b[39;49m\u001b[43mshape\u001b[49m\u001b[43m,\u001b[49m\u001b[38;5;241;43m5\u001b[39;49m\u001b[43m,\u001b[49m\u001b[38;5;241;43m3\u001b[39;49m\u001b[43m)\u001b[49m\n\u001b[1;32m      2\u001b[0m result\u001b[38;5;241m=\u001b[39mC_layer\u001b[38;5;241m.\u001b[39mforward()\n",
      "\u001b[0;31mTypeError\u001b[0m: Convolutional_layer.__init__() takes 4 positional arguments but 5 were given"
     ]
    }
   ],
   "source": [
    "C_layer=Convolutional_layer(x_train,x_train.shape,5,3)\n",
    "result=C_layer.forward()"
   ]
  },
  {
   "cell_type": "code",
   "execution_count": null,
   "metadata": {},
   "outputs": [
    {
     "ename": "ValueError",
     "evalue": "operands could not be broadcast together with shapes (3,3) (28,28) (3,3) ",
     "output_type": "error",
     "traceback": [
      "\u001b[0;31m---------------------------------------------------------------------------\u001b[0m",
      "\u001b[0;31mValueError\u001b[0m                                Traceback (most recent call last)",
      "Cell \u001b[0;32mIn[28], line 1\u001b[0m\n\u001b[0;32m----> 1\u001b[0m \u001b[43mC_layer\u001b[49m\u001b[38;5;241;43m.\u001b[39;49m\u001b[43mbackprop\u001b[49m\u001b[43m(\u001b[49m\u001b[43mresult\u001b[49m\u001b[43m,\u001b[49m\u001b[38;5;241;43m0.01\u001b[39;49m\u001b[43m)\u001b[49m\n",
      "Cell \u001b[0;32mIn[26], line 24\u001b[0m, in \u001b[0;36mConvolutional_layer.backprop\u001b[0;34m(self, dL_dout, learn_rate)\u001b[0m\n\u001b[1;32m     22\u001b[0m \u001b[38;5;28;01mfor\u001b[39;00m i \u001b[38;5;129;01min\u001b[39;00m \u001b[38;5;28mrange\u001b[39m(\u001b[38;5;28mself\u001b[39m\u001b[38;5;241m.\u001b[39mnum_filters):\n\u001b[1;32m     23\u001b[0m     \u001b[38;5;28;01mfor\u001b[39;00m j \u001b[38;5;129;01min\u001b[39;00m \u001b[38;5;28mrange\u001b[39m(\u001b[38;5;28mself\u001b[39m\u001b[38;5;241m.\u001b[39minput_shape[\u001b[38;5;241m0\u001b[39m]):\n\u001b[0;32m---> 24\u001b[0m         \u001b[43mdL_dfilters\u001b[49m\u001b[43m[\u001b[49m\u001b[43mi\u001b[49m\u001b[43m]\u001b[49m\u001b[43m \u001b[49m\u001b[38;5;241;43m+\u001b[39;49m\u001b[38;5;241;43m=\u001b[39;49m\u001b[43m \u001b[49m\u001b[43mconvolve\u001b[49m\u001b[43m(\u001b[49m\u001b[38;5;28;43mself\u001b[39;49m\u001b[38;5;241;43m.\u001b[39;49m\u001b[43minput\u001b[49m\u001b[43m[\u001b[49m\u001b[43mj\u001b[49m\u001b[43m]\u001b[49m\u001b[43m,\u001b[49m\u001b[43m \u001b[49m\u001b[43mdL_dout\u001b[49m\u001b[43m[\u001b[49m\u001b[43mj\u001b[49m\u001b[43m,\u001b[49m\u001b[43mi\u001b[49m\u001b[43m]\u001b[49m\u001b[43m)\u001b[49m\n\u001b[1;32m     25\u001b[0m         dL_input[j] \u001b[38;5;241m+\u001b[39m\u001b[38;5;241m=\u001b[39m convolve(dL_dout[j,i], np\u001b[38;5;241m.\u001b[39mrot90(\u001b[38;5;28mself\u001b[39m\u001b[38;5;241m.\u001b[39mconv_filters[i], \u001b[38;5;241m2\u001b[39m))\n\u001b[1;32m     26\u001b[0m \u001b[38;5;28mself\u001b[39m\u001b[38;5;241m.\u001b[39mconv_filters \u001b[38;5;241m-\u001b[39m\u001b[38;5;241m=\u001b[39m learn_rate \u001b[38;5;241m*\u001b[39m dL_dfilters\n",
      "\u001b[0;31mValueError\u001b[0m: operands could not be broadcast together with shapes (3,3) (28,28) (3,3) "
     ]
    }
   ],
   "source": [
    "C_layer.backprop(result,0.01)"
   ]
  },
  {
   "cell_type": "code",
   "execution_count": null,
   "metadata": {},
   "outputs": [
    {
     "data": {
      "image/png": "[encoded data removed]",
      "text/plain": [
       "<Figure size 640x480 with 1 Axes>"
      ]
     },
     "metadata": {},
     "output_type": "display_data"
    },
    {
     "data": {
      "image/png": "[encoded data removed]",
      "text/plain": [
       "<Figure size 640x480 with 1 Axes>"
      ]
     },
     "metadata": {},
     "output_type": "display_data"
    },
    {
     "data": {
      "image/png": "[encoded data removed]",
      "text/plain": [
       "<Figure size 640x480 with 1 Axes>"
      ]
     },
     "metadata": {},
     "output_type": "display_data"
    },
    {
     "data": {
      "image/png": "[encoded data removed]",
      "text/plain": [
       "<Figure size 640x480 with 1 Axes>"
      ]
     },
     "metadata": {},
     "output_type": "display_data"
    },
    {
     "data": {
      "image/png": "[encoded data removed]",
      "text/plain": [
       "<Figure size 640x480 with 1 Axes>"
      ]
     },
     "metadata": {},
     "output_type": "display_data"
    }
   ],
   "source": [
    "import matplotlib.pyplot as plt\n",
    "\n",
    "for i in range(5):\n",
    "    plt.imshow(result[i], cmap='gray')\n",
    "    plt.show()"
   ]
  },
  {
   "cell_type": "code",
   "execution_count": null,
   "metadata": {},
   "outputs": [],
   "source": [
    "one_ex=x_train[0]"
   ]
  },
  {
   "cell_type": "code",
   "execution_count": null,
   "metadata": {},
   "outputs": [],
   "source": [
    "one_ex.shape\n",
    "conv_filters = np.random.randn(5, 3, 3)"
   ]
  },
  {
   "cell_type": "code",
   "execution_count": null,
   "metadata": {},
   "outputs": [
    {
     "name": "stdout",
     "output_type": "stream",
     "text": [
      "[[-0.48921245  0.35935523  0.14146524]\n",
      " [-0.00479226 -0.19620189  0.04810729]\n",
      " [ 1.07119064  2.40783704  0.03018003]]\n"
     ]
    }
   ],
   "source": [
    "print(conv_filters[0])"
   ]
  },
  {
   "cell_type": "code",
   "execution_count": null,
   "metadata": {},
   "outputs": [
    {
     "name": "stdout",
     "output_type": "stream",
     "text": [
      "(28, 28)\n",
      "(3, 3)\n",
      "(28, 28)\n",
      "(3, 3)\n",
      "(28, 28)\n",
      "(3, 3)\n",
      "(28, 28)\n",
      "(3, 3)\n",
      "(28, 28)\n",
      "(3, 3)\n"
     ]
    }
   ],
   "source": [
    "for i in range(5):\n",
    "    print(one_ex.shape)\n",
    "    print(conv_filters[i].shape)\n",
    "    result=convolve(one_ex, conv_filters[i])"
   ]
  },
  {
   "cell_type": "code",
   "execution_count": null,
   "metadata": {},
   "outputs": [
    {
     "data": {
      "text/plain": [
       "(28, 28)"
      ]
     },
     "execution_count": 48,
     "metadata": {},
     "output_type": "execute_result"
    }
   ],
   "source": [
    "result"
   ]
  }
 ],
 "metadata": {
  "kernelspec": {
   "display_name": "Python 3",
   "language": "python",
   "name": "python3"
  },
  "language_info": {
   "codemirror_mode": {
    "name": "ipython",
    "version": 3
   },
   "file_extension": ".py",
   "mimetype": "text/x-python",
   "name": "python",
   "nbconvert_exporter": "python",
   "pygments_lexer": "ipython3",
   "version": "3.11.8"
  }
 },
 "nbformat": 4,
 "nbformat_minor": 2
}
